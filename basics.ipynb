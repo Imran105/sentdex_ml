{
 "cells": [
  {
   "cell_type": "code",
   "execution_count": 1,
   "metadata": {
    "collapsed": true
   },
   "outputs": [],
   "source": [
    "import tensorflow as tf"
   ]
  },
  {
   "cell_type": "code",
   "execution_count": 9,
   "metadata": {},
   "outputs": [
    {
     "name": "stdout",
     "output_type": "stream",
     "text": [
      "abstract result\n",
      "Tensor(\"Mul_3:0\", shape=(), dtype=int32)\n",
      "Session Result\n",
      "30\n",
      "30\n"
     ]
    }
   ],
   "source": [
    "x1=tf.constant(5)\n",
    "x2=tf.constant(6)\n",
    "\n",
    "result=tf.multiply(x1,x2) # This defines the process but no computation took place\n",
    "\n",
    "# Basic Use\n",
    "\n",
    "# This prints an abstract version\n",
    "print(\"abstract result\")\n",
    "print(result)\n",
    "# In order to get a number you need a session\n",
    "print(\"Session Result\")\n",
    "sess=tf.Session()\n",
    "print(sess.run(result))\n",
    "# sess.close\n",
    "\n",
    "# BETTER USE\n",
    "\n",
    "with tf.Session() as sess:\n",
    "    output=sess.run(result)\n",
    "    print(output)\n",
    "\n",
    "# CLOSE THE SESSION AT THE END\n",
    "\n"
   ]
  },
  {
   "cell_type": "code",
   "execution_count": null,
   "metadata": {
    "collapsed": true
   },
   "outputs": [],
   "source": []
  }
 ],
 "metadata": {
  "kernelspec": {
   "display_name": "Python 3",
   "language": "python",
   "name": "python3"
  },
  "language_info": {
   "codemirror_mode": {
    "name": "ipython",
    "version": 3
   },
   "file_extension": ".py",
   "mimetype": "text/x-python",
   "name": "python",
   "nbconvert_exporter": "python",
   "pygments_lexer": "ipython3",
   "version": "3.6.1"
  }
 },
 "nbformat": 4,
 "nbformat_minor": 2
}
